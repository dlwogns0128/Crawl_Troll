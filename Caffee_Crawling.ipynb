{
 "cells": [
  {
   "cell_type": "code",
   "execution_count": 1,
   "metadata": {},
   "outputs": [
    {
     "name": "stdout",
     "output_type": "stream",
     "text": [
      "4273\n"
     ]
    }
   ],
   "source": [
    "import json\n",
    "\n",
    "with open('probes.json') as file_object:\n",
    "        # store file data in object\n",
    "        data = json.load(file_object)\n",
    "print(len(data))"
   ]
  },
  {
   "cell_type": "code",
   "execution_count": 3,
   "metadata": {},
   "outputs": [
    {
     "name": "stdout",
     "output_type": "stream",
     "text": [
      "{'key': '1111', 'latitude': 37.5729503, 'longitude': 126.9793579, 'name': '서울특별시 종로구'}\n",
      "{'key': '11110', 'latitude': 37.5729503, 'longitude': 126.9793579, 'name': '서울특별시 종로구'}\n",
      "{'key': '11110515', 'latitude': 37.5840608, 'longitude': 126.9705804, 'name': '서울특별시 종로구 청운효자동'}\n",
      "{'key': '11110530', 'latitude': 37.5761637, 'longitude': 126.9688063, 'name': '서울특별시 종로구 사직동'}\n",
      "{'key': '11110540', 'latitude': 37.5848379, 'longitude': 126.9819133, 'name': '서울특별시 종로구 삼청동'}\n",
      "{'key': '11110550', 'latitude': 37.5962608, 'longitude': 126.9676991, 'name': '서울특별시 종로구 부암동'}\n",
      "{'key': '11110560', 'latitude': 37.6053351, 'longitude': 126.9668582, 'name': '서울특별시 종로구 평창동'}\n",
      "{'key': '11110570', 'latitude': 37.5773553, 'longitude': 126.9586242, 'name': '서울특별시 종로구 무악동'}\n",
      "{'key': '11110580', 'latitude': 37.5718391, 'longitude': 126.9619706, 'name': '서울특별시 종로구 교남동'}\n",
      "{'key': '11110600', 'latitude': 37.5800055, 'longitude': 126.9846912, 'name': '서울특별시 종로구 가회동'}\n",
      "{'key': '11110615', 'latitude': 37.5706457, 'longitude': 126.988968, 'name': '서울특별시 종로구 종로1.2.3.4가동'}\n",
      "{'key': '11110630', 'latitude': 37.5719508, 'longitude': 127.0050224, 'name': '서울특별시 종로구 종로5.6가동'}\n",
      "{'key': '11110640', 'latitude': 37.5769232, 'longitude': 127.0043003, 'name': '서울특별시 종로구 이화동'}\n",
      "{'key': '11110650', 'latitude': 37.586755, 'longitude': 127.0003554, 'name': '서울특별시 종로구 혜화동'}\n",
      "{'key': '11110660', 'latitude': 37.5833663, 'longitude': 126.9977728, 'name': '서울특별시 종로구 명륜3가동'}\n",
      "{'key': '11110680', 'latitude': 37.579361, 'longitude': 127.015281, 'name': '서울특별시 종로구 창신제2동'}\n",
      "{'key': '11110690', 'latitude': 37.5778119, 'longitude': 127.0150212, 'name': '서울특별시 종로구 창신제3동'}\n",
      "{'key': '11110700', 'latitude': 37.5777841, 'longitude': 127.0156322, 'name': '서울특별시 종로구 숭인제1동'}\n",
      "{'key': '11110710', 'latitude': 37.5747055, 'longitude': 127.0186416, 'name': '서울특별시 종로구 숭인제2동'}\n",
      "{'key': '11110670', 'latitude': 37.5706742, 'longitude': 127.0163263, 'name': '서울특별시 종로구 창신1동'}\n"
     ]
    }
   ],
   "source": [
    "JongRo = []\n",
    "for item in data:\n",
    "    if item['name'][:9]=='서울특별시 종로구':\n",
    "        print(item)\n",
    "        JongRo.append(item)"
   ]
  },
  {
   "cell_type": "code",
   "execution_count": 4,
   "metadata": {},
   "outputs": [],
   "source": [
    "import requests"
   ]
  },
  {
   "cell_type": "code",
   "execution_count": 27,
   "metadata": {},
   "outputs": [],
   "source": [
    "f = open('apk.txt')\n",
    "apk = str(f.readline())[:-1]"
   ]
  },
  {
   "cell_type": "code",
   "execution_count": 43,
   "metadata": {},
   "outputs": [],
   "source": [
    "res = []"
   ]
  },
  {
   "cell_type": "code",
   "execution_count": 44,
   "metadata": {},
   "outputs": [],
   "source": [
    "for point in JongRo:\n",
    "    lat = point['latitude']\n",
    "    long = point['longitude']\n",
    "    r = requests.get(\"https://dapi.kakao.com/v2/local/search/category.json?category_group_code=CE7&x=\"+str(long)+\"&y=\"+str(lat)+\"&radius=20000\",headers={'Authorization':'KakaoAK '+apk})\n",
    "    j_d = r.json()\n",
    "    for place in j_d['documents']:\n",
    "        if '카페' in place['category_name']:\n",
    "            res.append(place)\n",
    "    "
   ]
  },
  {
   "cell_type": "code",
   "execution_count": 47,
   "metadata": {},
   "outputs": [],
   "source": [
    "places = []\n",
    "for a in res:\n",
    "    places.append(a['place_name'])\n",
    "s = set(places)"
   ]
  },
  {
   "cell_type": "code",
   "execution_count": 49,
   "metadata": {},
   "outputs": [
    {
     "data": {
      "text/plain": [
       "{'4F cafe',\n",
       " 'mk2',\n",
       " '개뿔',\n",
       " '광화문연가',\n",
       " '그라운드62',\n",
       " '그린마일커피 북촌점',\n",
       " '꾸까카페 광화문점',\n",
       " '나무사이로',\n",
       " '놀숲 종로점',\n",
       " '대오서점',\n",
       " '더피아노',\n",
       " '더피터커피',\n",
       " '데미타스',\n",
       " '도밍고팩토리',\n",
       " '동백양과점',\n",
       " '두오모 북스앤쿡스',\n",
       " '라미스',\n",
       " '라카페갤러리',\n",
       " '럼버잭',\n",
       " '레이어드',\n",
       " '루소랩 정동점',\n",
       " '루츠',\n",
       " '매머드커피 정동길점',\n",
       " '매머드커피 종로5가점',\n",
       " '메가커피 신설동역점',\n",
       " '명륜건강원',\n",
       " '모터라이프',\n",
       " '무네',\n",
       " '미담헌',\n",
       " '미술관옆집',\n",
       " '미스터힐링 대학로점',\n",
       " '밀크홀1937 종로점',\n",
       " '반쥴',\n",
       " '벙커1',\n",
       " '베어카페',\n",
       " '별다방미스리 인사동점',\n",
       " '보드레안다미로',\n",
       " '부빙',\n",
       " '북촌빙수',\n",
       " '북해빙수',\n",
       " '브릭하우스',\n",
       " '블루룸',\n",
       " '비트포비아 대학로점',\n",
       " '빌리엔젤 대학로점',\n",
       " '빽다방 서대문역점',\n",
       " '빽다방 종로숭인1호점',\n",
       " '사직동그가게',\n",
       " '사직커피',\n",
       " '산모퉁이',\n",
       " '서울커피 익선점',\n",
       " '서울커피상회',\n",
       " '서촌음료연구소',\n",
       " '성곽마을삼층까페',\n",
       " '세컨스텝',\n",
       " '솔가헌',\n",
       " '수연산방',\n",
       " '순카페',\n",
       " '스노브 대학로점',\n",
       " '스타벅스 광화문R점',\n",
       " '스타벅스 더종로R점',\n",
       " '스타벅스 독립문역점',\n",
       " '스타벅스 동대문공원점',\n",
       " '스타벅스 동묘앞역점',\n",
       " '스타벅스 신당역사거리점',\n",
       " '스타벅스 신당역점',\n",
       " '스타벅스 신설동역점',\n",
       " '스타벅스 종로평창동점',\n",
       " '스타벅스 황학사거리점',\n",
       " '스탐티쉬',\n",
       " '스펙터',\n",
       " '슬로스텝',\n",
       " '슬로우가든',\n",
       " '슬로우파크',\n",
       " '식물',\n",
       " '신라스테이카페 광화문점',\n",
       " '신선식탁',\n",
       " '심세정',\n",
       " '아가비띠',\n",
       " '애프터유',\n",
       " '앨리스의 티팟',\n",
       " '어니언 안국점',\n",
       " '언더투에니포',\n",
       " '에일당',\n",
       " '엔티커피',\n",
       " '엘가커피 대학로직영점',\n",
       " '옐로우카페',\n",
       " '오무사',\n",
       " '오브아',\n",
       " '오설록',\n",
       " '오제도',\n",
       " '우드앤브릭 재동점',\n",
       " '이디야커피 독립문통일로점',\n",
       " '이디야커피 동묘역점',\n",
       " '이디야커피 숭인점',\n",
       " '이디야커피 신설점',\n",
       " '이화중심',\n",
       " '전광수커피하우스 대학로점',\n",
       " '제비꽃다방',\n",
       " '제이히든하우스',\n",
       " '제프리카벤디쉬런던 대학로점',\n",
       " '째즈스토리 2호점',\n",
       " '차마시는뜰',\n",
       " '창의문뜰',\n",
       " '카르페가든',\n",
       " '카페 아포테케리',\n",
       " '카페 에무',\n",
       " '카페데코믹스 대학로점',\n",
       " '카페뎀셀브즈',\n",
       " '카페드람브르',\n",
       " '카페마마스 광화문점',\n",
       " '카페모뜨',\n",
       " '카페보라 삼청본점',\n",
       " '카페브리진',\n",
       " '카페아무흐',\n",
       " '카페이마',\n",
       " '카페코나퀸즈 청하점',\n",
       " '카페키이로',\n",
       " '카페트레블',\n",
       " '커피명가 안암점',\n",
       " '커피방앗간',\n",
       " '커피스트',\n",
       " '커피에비뉴',\n",
       " '커피인뜨락',\n",
       " '커피한약방',\n",
       " '커피한잔',\n",
       " '커핀그루나루 평창동점',\n",
       " '코피티암커피 경복궁점',\n",
       " '클럽에스프레소',\n",
       " '키미아트',\n",
       " '키이스케이프 혜화점',\n",
       " '타요키즈카페 두타몰점',\n",
       " '탐스로스팅코 내자점',\n",
       " '테라로사커피 광화문점',\n",
       " '통인동커피공방',\n",
       " '통인스윗',\n",
       " '투썸플레이스 신설IBC호텔점',\n",
       " '투썸플레이스 종로5가역점',\n",
       " '투피스',\n",
       " '티파니',\n",
       " '패션피플',\n",
       " '포비 광화문점',\n",
       " '퓨어아레나',\n",
       " '프로젝트온더로드',\n",
       " '프롬하츠커피 보문파크뷰자이점',\n",
       " '프릳츠 원서점',\n",
       " '프앙디',\n",
       " '핀란드프로젝트 서촌점',\n",
       " '하나미즈키 커피하우스',\n",
       " '하이제씨',\n",
       " '학림다방',\n",
       " '행거커피',\n",
       " '헤븐온탑 DDP점',\n",
       " '호랑이',\n",
       " '호로록커피',\n",
       " '호아드',\n",
       " '홍콩샤워'}"
      ]
     },
     "execution_count": 49,
     "metadata": {},
     "output_type": "execute_result"
    }
   ],
   "source": [
    "s"
   ]
  },
  {
   "cell_type": "code",
   "execution_count": 50,
   "metadata": {},
   "outputs": [
    {
     "data": {
      "text/plain": [
       "156"
      ]
     },
     "execution_count": 50,
     "metadata": {},
     "output_type": "execute_result"
    }
   ],
   "source": [
    "len(s)"
   ]
  },
  {
   "cell_type": "code",
   "execution_count": 35,
   "metadata": {},
   "outputs": [
    {
     "name": "stdout",
     "output_type": "stream",
     "text": [
      "토즈 선릉점\n",
      "테라로사 포스코센터점\n",
      "애니홀\n",
      "테라로사커피 코엑스점\n",
      "헤븐리29\n",
      "이스트덜위치\n",
      "토즈 삼성점\n",
      "에잇디시티카페 삼성점\n",
      "카페스물다섯\n",
      "다노이 선릉점\n",
      "투썸플레이스 포스코사거리점\n",
      "블랙랩\n",
      "식물원282\n",
      "더앨리 현대백화점 무역점\n",
      "벨지움재즈카페\n"
     ]
    }
   ],
   "source": [
    "j_d = r.json()\n",
    "for doc in j_d['documents']:\n",
    "    print (doc['place_name'])"
   ]
  },
  {
   "cell_type": "code",
   "execution_count": null,
   "metadata": {},
   "outputs": [],
   "source": []
  }
 ],
 "metadata": {
  "kernelspec": {
   "display_name": "Python 3",
   "language": "python",
   "name": "python3"
  },
  "language_info": {
   "codemirror_mode": {
    "name": "ipython",
    "version": 3
   },
   "file_extension": ".py",
   "mimetype": "text/x-python",
   "name": "python",
   "nbconvert_exporter": "python",
   "pygments_lexer": "ipython3",
   "version": "3.6.8"
  }
 },
 "nbformat": 4,
 "nbformat_minor": 2
}
