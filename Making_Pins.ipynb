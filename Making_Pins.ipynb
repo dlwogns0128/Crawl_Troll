{
 "cells": [
  {
   "cell_type": "code",
   "execution_count": 2,
   "metadata": {},
   "outputs": [],
   "source": [
    "from geopy.geocoders import Nominatim"
   ]
  },
  {
   "cell_type": "code",
   "execution_count": 3,
   "metadata": {},
   "outputs": [],
   "source": [
    "geolocator = Nominatim(user_agent=\"speficy_your_app_name_here\")"
   ]
  },
  {
   "cell_type": "code",
   "execution_count": 4,
   "metadata": {},
   "outputs": [],
   "source": [
    "location = geolocator.reverse(\"52.509669, 13.376294\")"
   ]
  },
  {
   "cell_type": "code",
   "execution_count": 5,
   "metadata": {},
   "outputs": [
    {
     "name": "stdout",
     "output_type": "stream",
     "text": [
      "Potsdamer Platz, Tiergarten, Mitte, Berlin, 10785, Deutschland\n"
     ]
    }
   ],
   "source": [
    "print(location.address)"
   ]
  },
  {
   "cell_type": "code",
   "execution_count": 77,
   "metadata": {},
   "outputs": [],
   "source": [
    "import geopy.geocoders"
   ]
  },
  {
   "cell_type": "code",
   "execution_count": 78,
   "metadata": {},
   "outputs": [],
   "source": [
    "#너무 작게 잡으면 Service Timeout Error 문제가 발생함\n",
    "geopy.geocoders.options.default_timeout=5"
   ]
  },
  {
   "cell_type": "code",
   "execution_count": 79,
   "metadata": {},
   "outputs": [],
   "source": [
    "geolocator = Nominatim(user_agent=\"speficy_your_app_name_here\")"
   ]
  },
  {
   "cell_type": "code",
   "execution_count": 80,
   "metadata": {},
   "outputs": [
    {
     "name": "stdout",
     "output_type": "stream",
     "text": [
      "5\n"
     ]
    }
   ],
   "source": [
    "print(geolocator.timeout)"
   ]
  },
  {
   "cell_type": "code",
   "execution_count": 12,
   "metadata": {},
   "outputs": [],
   "source": [
    "location = geolocator.reverse(\"37.484146, 127.011653\")"
   ]
  },
  {
   "cell_type": "code",
   "execution_count": 13,
   "metadata": {},
   "outputs": [
    {
     "data": {
      "text/plain": [
       "Location(남서울농협, 효령로, 서초3동, 서초동, 서초구, 서울, 06720, 대한민국, (37.483955, 127.012007, 0.0))"
      ]
     },
     "execution_count": 13,
     "metadata": {},
     "output_type": "execute_result"
    }
   ],
   "source": [
    "location"
   ]
  },
  {
   "cell_type": "code",
   "execution_count": 14,
   "metadata": {},
   "outputs": [],
   "source": [
    "# calculate distance between two points\n",
    "\n",
    "from geopy.distance import geodesic"
   ]
  },
  {
   "cell_type": "code",
   "execution_count": 15,
   "metadata": {},
   "outputs": [],
   "source": [
    "a = (37.484146, 127.011653)"
   ]
  },
  {
   "cell_type": "code",
   "execution_count": 29,
   "metadata": {},
   "outputs": [],
   "source": [
    "b = (37.485146, 127.011653)"
   ]
  },
  {
   "cell_type": "code",
   "execution_count": 33,
   "metadata": {},
   "outputs": [],
   "source": [
    "c = (37.484146, 127.012653)"
   ]
  },
  {
   "cell_type": "code",
   "execution_count": 35,
   "metadata": {},
   "outputs": [
    {
     "name": "stdout",
     "output_type": "stream",
     "text": [
      "110.98674757137965\n"
     ]
    }
   ],
   "source": [
    "print(geodesic(a,b).meters) #0.001 longitude = 110.9867 meter"
   ]
  },
  {
   "cell_type": "code",
   "execution_count": 36,
   "metadata": {},
   "outputs": [
    {
     "name": "stdout",
     "output_type": "stream",
     "text": [
      "88.44413618387576\n"
     ]
    }
   ],
   "source": [
    "print(geodesic(a,c).meters) #0.001 latitude = 88.4414 meter"
   ]
  },
  {
   "cell_type": "code",
   "execution_count": 42,
   "metadata": {},
   "outputs": [],
   "source": [
    "long_amp = 0.002\n",
    "lati_amp = 0.002"
   ]
  },
  {
   "cell_type": "code",
   "execution_count": 44,
   "metadata": {},
   "outputs": [
    {
     "name": "stdout",
     "output_type": "stream",
     "text": [
      "남서울농협, 효령로, 서초3동, 서초동, 서초구, 서울, 06720, 대한민국\n",
      "남서울농협, 효령로, 서초3동, 서초동, 서초구, 서울, 06720, 대한민국\n",
      "반포대로10길, 서초3동, 서초동, 서초구, 서울, 06711, 대한민국\n",
      "반포대로10길, 서초3동, 서초동, 서초구, 서울, 06711, 대한민국\n",
      "서울남부터미널, 효령로, 서초3동, 서초동, 서초구, 서울, 06720, 대한민국\n",
      "서울남부터미널, 효령로, 서초3동, 서초동, 서초구, 서울, 06720, 대한민국\n",
      "한국시티은행, 서초중앙로, 서초1동, 서초동, 서초구, 서울, 06720, 대한민국\n",
      "NH농협은행, 효령로60길, 서초1동, 서초동, 서초구, 서울, 06720, 대한민국\n",
      "부일갈비, 서초중앙로2길, 서초1동, 서초동, 서초구, 서울, 06720, 대한민국\n",
      "남부순환로337길, 서초1동, 서초동, 서초구, 서울, 06720, 대한민국\n"
     ]
    }
   ],
   "source": [
    "start_long = 37.484146\n",
    "start_lati = 127.011653\n",
    "for i in range(10):\n",
    "    location = geolocator.reverse(str(start_long)+\", \"+str(start_lati))\n",
    "    print(location)\n",
    "    #start_long += long_amp\n",
    "    start_lati += lati_amp"
   ]
  },
  {
   "cell_type": "code",
   "execution_count": 89,
   "metadata": {},
   "outputs": [],
   "source": [
    "# longitude (크면 위 작으면 아래), latitude (크면 오른쪽 작으면 왼쪽)\n",
    "# 각 구에 해당하는 모든 위도 경도를 뽑아내보자(0.002 long, 0.002 lati)간격으로\n",
    "# 구 영역에 해당하는 latitudes에 대해 최상단 및 최하단의 longitude를 저장하자\n",
    "def make_gu_list(st_long,st_lati):\n",
    "    #시작 주소로 어느 구의 list를 생성할건지 저장\n",
    "    location = geolocator.reverse(str(start_long)+\", \"+str(start_lati))\n",
    "    gu = location.address.split(', ')[-4]\n",
    "    #print(gu)\n",
    "    res = {}\n",
    "    point_long = st_long\n",
    "    point_lati = st_lati\n",
    "    #Find top longitude\n",
    "    '''\n",
    "    while True:\n",
    "        location = geolocator.reverse(str(point_long)+\", \"+str(point_lati))\n",
    "        if location.address.split(', ')[-4] != gu:\n",
    "            break\n",
    "        #pos = {'longitude':point_long, 'latitude':point_lati, 'address':location.address}\n",
    "        #res.append(pos)\n",
    "        point_long += long_amp\n",
    "        print(location.address)\n",
    "        \n",
    "    res[point_lati] = [point_long]\n",
    "    point_long = st_long\n",
    "    while True:\n",
    "        location = geolocator.reverse(str(point_long)+\", \"+str(point_lati))\n",
    "        if location.address.split(', ')[-4] != gu:\n",
    "            break\n",
    "        #pos = {'longitude':point_long, 'latitude':point_lati, 'address':location.address}\n",
    "        #res.append(pos)\n",
    "        point_long -= long_amp\n",
    "        #print(pos)\n",
    "        print(location.address)\n",
    "    res[point_lati].append(point_long)\n",
    "    '''\n",
    "    res[point_lati]=[37.51114599999994, 37.45514600000007]\n",
    "    print('res[',point_lati,']:',res[point_lati])\n",
    "    \n",
    "    def find_extension(t_long,d_long,lati):\n",
    "        t_p = t_long\n",
    "        location = geolocator.reverse(str(t_p)+\", \"+str(lati))\n",
    "        #print(location.address)\n",
    "        while location.address.split(', ')[-4] == gu:\n",
    "            t_p += long_amp\n",
    "            \n",
    "            location = geolocator.reverse(str(t_p)+\", \"+str(lati))\n",
    "\n",
    "        if location.address.split(', ')[-4] != gu:\n",
    "            while location.address.split(', ')[-4] != gu:\n",
    "                t_p -= long_amp\n",
    "                if t_p < d_long:\n",
    "                    t_p=-1\n",
    "                    break\n",
    "                location = geolocator.reverse(str(t_p)+\", \"+str(lati))\n",
    "        #해당 latitude가 구를 벗어난 경우\n",
    "        if t_p ==-1:\n",
    "            return (-1,-1)\n",
    "        \n",
    "        d_p = d_long\n",
    "        location = geolocator.reverse(str(d_p)+\", \"+str(lati))\n",
    "        #print(location.address)\n",
    "        while location.address.split(', ')[-4] == gu:\n",
    "            d_p -= long_amp\n",
    "            #print('hio')\n",
    "            location = geolocator.reverse(str(d_p)+\", \"+str(lati))\n",
    "\n",
    "        if location.address.split(', ')[-4] != gu:\n",
    "            while location.address.split(', ')[-4] != gu:\n",
    "                d_p += long_amp\n",
    "                location = geolocator.reverse(str(d_p)+\", \"+str(lati))\n",
    "        return (t_p,d_p)            \n",
    "    \n",
    "    while True:\n",
    "        t_long = res[point_lati][0]\n",
    "        d_long = res[point_lati][1]\n",
    "        point_lati += lati_amp\n",
    "        res_t_long, res_d_long = find_extension(t_long,d_long,point_lati)\n",
    "        if res_t_long == -1:\n",
    "            break\n",
    "        else:\n",
    "            res[point_lati]=[res_t_long,res_d_long]\n",
    "            print(point_lati,\":\",res[point_lati])\n",
    "            location = geolocator.reverse(str(res_t_long)+\", \"+str(point_lati))\n",
    "            print(location.address)\n",
    "            location = geolocator.reverse(str(res_d_long)+\", \"+str(point_lati))            \n",
    "            print(location.address)\n",
    "    point_lati = st_lati\n",
    "    while True:\n",
    "        t_long = res[point_lati][0]\n",
    "        d_long = res[point_lati][1]\n",
    "        point_lati -= lati_amp\n",
    "        res_t_long, res_d_long = find_extension(t_long,d_long,point_lati)\n",
    "        if res_t_long == -1:\n",
    "            break\n",
    "        else:\n",
    "            res[point_lati]=[res_t_long,res_d_long]\n",
    "            print(point_lati,\":\",res[point_lati])\n",
    "    return res"
   ]
  },
  {
   "cell_type": "code",
   "execution_count": 90,
   "metadata": {},
   "outputs": [
    {
     "name": "stdout",
     "output_type": "stream",
     "text": [
      "res[ 127.02165300000004 ]: [37.51114599999994, 37.45514600000007]\n",
      "127.02265300000005 : [37.50814599999995, 37.457146000000066]\n",
      "강남대로, 논현1동, 논현동, 서초구, 서울, 06609, 대한민국\n",
      "양재대로2길, LH4,5단지, 양재1동, 우면동, 서초구, 서울, 06768, 대한민국\n",
      "127.02365300000005 : [37.50614599999995, 37.457146000000066]\n",
      "논현역, 강남대로, 논현1동, 논현동, 서초구, 서울, 06609, 대한민국\n",
      "양재대로2길, LH4,5단지, 양재1동, 우면동, 서초구, 서울, 06768, 대한민국\n",
      "127.02465300000006 : [37.50314599999996, 37.45814600000006]\n",
      "백암빌딩, 459, 강남대로, 서초4동, 서초동, 서초구, 서울, 06611, 대한민국\n",
      "양재대로2길, LH4,5단지, 양재1동, 우면동, 서초구, 서울, 06768, 대한민국\n",
      "127.02565300000006 : [37.50114599999996, 37.45814600000006]\n",
      "주류성빌딩, 435, 강남대로, 서초4동, 서초동, 서초구, 서울, 06612, 대한민국\n",
      "양재천 우측 자전거도로, 양재1동, 양재동, 서초구, 서울, 06746, 대한민국\n",
      "127.02665300000007 : [37.49914599999997, 37.45914600000006]\n",
      "대승빌딩, 3, 강남대로61길, 서초4동, 서초동, 서초구, 서울, 06615, 대한민국\n",
      "양재천 우측 자전거도로, 양재1동, 양재동, 서초구, 서울, 06746, 대한민국\n",
      "127.02765300000007 : [37.496145999999975, 37.45914600000006]\n",
      "모델하우스, 서초대로78길, 서초2동, 서초동, 서초구, 서울, 06620, 대한민국\n",
      "고향식물원, 양재대로, 양재1동, 양재동, 서초구, 서울, 06768, 대한민국\n",
      "127.02865300000008 : [37.49514599999998, 37.46014600000006]\n",
      "덕흥빌딩, 363, 강남대로, 서초2동, 서초동, 서초구, 서울, 06621, 대한민국\n",
      "강남순환로, 양재1동, 양재동, 서초구, 서울, 06764, 대한민국\n",
      "127.02965300000008 : [37.49314599999998, 37.46014600000006]\n",
      "수협서초지점, 강남대로, 서초2동, 서초동, 서초구, 서울, 06626, 대한민국\n",
      "양재대로, 양재1동, 양재동, 서초구, 서울, 13838, 대한민국\n",
      "127.03065300000009 : [37.491145999999986, 37.46014600000006]\n",
      "하나은행, 강남대로, 서초2동, 서초동, 서초구, 서울, 06628, 대한민국\n",
      "양재대로, 양재1동, 양재동, 서초구, 서울, 13838, 대한민국\n",
      "127.03165300000009 : [37.48914599999999, 37.466146000000045]\n",
      "산업은행, 강남대로, 서초2동, 서초동, 서초구, 서울, 135070, 대한민국\n",
      "더케이호텔서울, 70, 바우뫼로12길, 양재2동, 양재동, 서초구, 서울, 06769, 대한민국\n",
      "127.0326530000001 : [37.487145999999996, 37.466146000000045]\n",
      "뱅뱅사거리, 강남대로, 서초2동, 도곡동, 서초구, 서울, 135070, 대한민국\n",
      "더케이호텔서울, 70, 바우뫼로12길, 양재2동, 양재동, 서초구, 서울, 06769, 대한민국\n",
      "127.0336530000001 : [37.485146, 37.46514600000005]\n",
      "양재역 2번출구, 강남대로, 서초2동, 서초동, 서초구, 서울, 06750, 대한민국\n",
      "더케이호텔서울, 70, 바우뫼로12길, 양재2동, 양재동, 서초구, 서울, 06769, 대한민국\n",
      "127.0346530000001 : [37.484146, 37.46414600000005]\n",
      "양재역 6번출구, 강남대로, 도곡1동, 도곡동, 서초구, 서울, 06750, 대한민국\n",
      "cu, 매헌로, 양재2동, 양재동, 서초구, 서울, 06769, 대한민국\n",
      "127.03565300000011 : [37.484146, 37.45114600000008]\n",
      "강남세브란스 치과, 남부순환로350길, 도곡1동, 도곡동, 서초구, 서울, 137-888, 대한민국\n",
      "양재2동, 양재동, 서초구, 서울, 06772, 대한민국\n",
      "127.03665300000011 : [37.484146, 37.45214600000008]\n",
      "양재1동, 양재동, 서초구, 서울, 06267, 대한민국\n",
      "양재2동, 양재동, 서초구, 서울, 06772, 대한민국\n",
      "127.03765300000012 : [37.484146, 37.44614600000009]\n",
      "양재1동, 양재동, 서초구, 서울, 06267, 대한민국\n",
      "양재2동, 원지동, 서초구, 서울, 06794, 대한민국\n",
      "127.03865300000012 : [37.484146, 37.43914600000011]\n",
      "남부순환론358길, 도곡1동, 도곡동, 서초구, 서울, 06267, 대한민국\n",
      "양재2동, 원지동, 서초구, 서울, 06794, 대한민국\n",
      "127.03965300000013 : [37.484146, 37.43814600000011]\n",
      "강남대로34길, 양재1동, 양재동, 서초구, 서울, 06739, 대한민국\n",
      "Wontogol Gate, 경부고속도로, 양재2동, 양재동, 수정구, 서초구, 서울, 06772, 대한민국\n",
      "127.04065300000013 : [37.485146, 37.436146000000114]\n",
      "말죽거리주유소, 남부순환로364길, 도곡1동, 도곡동, 서초구, 서울, 06739, 대한민국\n",
      "Wontogol Gate, 경부고속도로, 양재2동, 양재동, 수정구, 서초구, 서울, 06772, 대한민국\n",
      "127.04165300000014 : [37.485146, 37.43514600000012]\n",
      "논현로38길, 도곡2동, 도곡동, 서초구, 서울, 06296, 대한민국\n",
      "Wontogol Gate, 경부고속도로, 양재2동, 양재동, 수정구, 서초구, 서울, 06772, 대한민국\n",
      "127.04265300000014 : [37.485146, 37.43314600000012]\n",
      "HANYANG, 12, 논현로38길, 도곡2동, 도곡동, 서초구, 서울, 06296, 대한민국\n",
      "Maebawi Rock, 경부고속도로, 양재2동, 양재동, 수정구, 서초구, 서울, 06772, 대한민국\n",
      "127.04365300000015 : [37.484146, 37.432146000000124]\n",
      "논현로32길, 도곡2동, 도곡동, 서초구, 서울, 06296, 대한민국\n",
      "Maebawi Rock, 경부고속도로, 양재2동, 양재동, 수정구, 서초구, 서울, 06772, 대한민국\n",
      "127.04465300000015 : [37.48114600000001, 37.431146000000126]\n",
      "양재천로, 도곡2동, 도곡동, 서초구, 서울, 06746, 대한민국\n",
      "돌문바위, 경부고속도로, 양재2동, 양재동, 수정구, 서초구, 서울, 06772, 대한민국\n",
      "127.04565300000016 : [37.47614600000002, 37.43014600000013]\n",
      "언남19길, 양재2동, 양재동, 서초구, 서울, 06307, 대한민국\n",
      "돌문바위, 경부고속도로, 양재2동, 양재동, 수정구, 서초구, 서울, 06772, 대한민국\n",
      "127.04665300000016 : [37.47614600000002, 37.423146000000145]\n",
      "Hotel Denim, 논현로16길, 개포4동, 양재동, 서초구, 서울, 06307, 대한민국\n",
      "Maebawi Rock, 경부고속도로, 양재2동, 양재동, 수정구, 서초구, 서울, 06772, 대한민국\n",
      "127.04765300000017 : [37.474146000000026, 37.42114600000015]\n",
      "논현로11길, 양재2동, 양재동, 서초구, 서울, 06307, 대한민국\n",
      "신선대, 경부고속도로, 양재2동, 양재동, 수정구, 서초구, 서울, 06772, 대한민국\n",
      "127.04865300000017 : [37.47314600000003, 37.419146000000154]\n",
      "우리은행, 논현로7길, 양재2동, 양재동, 서초구, 서울, 137-898, 대한민국\n",
      "신선대, 경부고속도로, 양재2동, 양재동, 수정구, 서초구, 서울, 06772, 대한민국\n",
      "127.04965300000018 : [37.47214600000003, 37.41814600000016]\n",
      "논현로1길, 양재2동, 양재동, 서초구, 서울, 06313, 대한민국\n",
      "신선대, 경부고속도로, 양재2동, 양재동, 수정구, 서초구, 서울, 06772, 대한민국\n",
      "127.05065300000018 : [37.47114600000003, 37.41714600000016]\n",
      "양재대로, 개포4동, 개포동, 서초구, 서울, 06313, 대한민국\n",
      "신선대, 경부고속도로, 양재2동, 양재동, 수정구, 서초구, 서울, 06772, 대한민국\n",
      "127.05165300000019 : [37.470146000000035, 37.41714600000016]\n",
      "양재대로, 개포4동, 개포동, 서초구, 서울, 06313, 대한민국\n",
      "신선대, 경부고속도로, 양재2동, 양재동, 수정구, 서초구, 서울, 06772, 대한민국\n",
      "127.05265300000019 : [37.46814600000004, 37.41614600000016]\n",
      "양재대로, 개포4동, 개포동, 서초구, 서울, 06313, 대한민국\n",
      "신선대, 경부고속도로, 양재2동, 양재동, 수정구, 서초구, 서울, 06772, 대한민국\n",
      "127.0536530000002 : [37.46814600000004, 37.41614600000016]\n",
      "내곡동, 염곡동, 서초구, 서울, 06313, 대한민국\n",
      "신선대, 경부고속도로, 양재2동, 양재동, 수정구, 서초구, 서울, 06772, 대한민국\n",
      "127.0546530000002 : [37.46814600000004, 37.41614600000016]\n",
      "내곡동, 염곡동, 서초구, 서울, 06313, 대한민국\n",
      "신선대, 경부고속도로, 양재2동, 양재동, 수정구, 서초구, 서울, 06772, 대한민국\n",
      "127.0556530000002 : [37.46814600000004, 37.41714600000016]\n",
      "내곡동, 염곡동, 서초구, 서울, 06313, 대한민국\n",
      "신선대, 경부고속도로, 양재2동, 양재동, 수정구, 서초구, 서울, 06772, 대한민국\n",
      "127.05665300000021 : [37.46914600000004, 37.41714600000016]\n",
      "내곡동, 염곡동, 서초구, 서울, 06313, 대한민국\n",
      "신선대, 경부고속도로, 양재2동, 양재동, 수정구, 서초구, 서울, 06772, 대한민국\n",
      "127.05765300000022 : [37.46914600000004, 37.41814600000016]\n",
      "내곡동, 염곡동, 서초구, 서울, 06313, 대한민국\n",
      "신선대, 경부고속도로, 양재2동, 양재동, 수정구, 서초구, 서울, 06772, 대한민국\n",
      "127.05865300000022 : [37.46814600000004, 37.419146000000154]\n",
      "내곡동, 염곡동, 서초구, 서울, 06313, 대한민국\n",
      "신선대, 경부고속도로, 양재2동, 양재동, 수정구, 서초구, 서울, 06772, 대한민국\n",
      "127.05965300000022 : [37.46714600000004, 37.43014600000013]\n",
      "내곡동, 염곡동, 서초구, 서울, 06794, 대한민국\n",
      "양재2동, 원지동, 서초구, 서울, 06794, 대한민국\n",
      "127.06065300000023 : [37.46714600000004, 37.431146000000126]\n",
      "내곡동, 염곡동, 서초구, 서울, 06794, 대한민국\n",
      "양재2동, 신원동, 서초구, 서울, 06794, 대한민국\n",
      "127.06165300000023 : [37.46714600000004, 37.43014600000013]\n",
      "내곡동, 염곡동, 서초구, 서울, 06794, 대한민국\n",
      "양재2동, 신원동, 서초구, 서울, 06794, 대한민국\n",
      "127.06265300000024 : [37.466146000000045, 37.43014600000013]\n",
      "내곡동, 염곡동, 서초구, 서울, 06794, 대한민국\n",
      "양재2동, 신원동, 서초구, 서울, 06794, 대한민국\n",
      "127.06365300000024 : [37.466146000000045, 37.42914600000013]\n",
      "내곡동, 서초구, 서울, 06794, 대한민국\n",
      "양재2동, 신원동, 서초구, 서울, 06794, 대한민국\n",
      "127.06465300000025 : [37.466146000000045, 37.42914600000013]\n",
      "내곡동, 서초구, 서울, 06794, 대한민국\n",
      "양재2동, 신원동, 서초구, 서울, 06794, 대한민국\n",
      "127.06565300000025 : [37.466146000000045, 37.42914600000013]\n",
      "내곡동, 서초구, 서울, 06794, 대한민국\n",
      "경부고속도로, 양재2동, 양재동, 수정구, 서초구, 서울, 06772, 대한민국\n",
      "127.06665300000026 : [37.466146000000045, 37.42914600000013]\n",
      "내곡동, 서초구, 서울, 06794, 대한민국\n",
      "경부고속도로, 양재2동, 양재동, 수정구, 서초구, 서울, 06772, 대한민국\n",
      "127.06765300000026 : [37.46514600000005, 37.42914600000013]\n",
      "내곡동, 서초구, 서울, 06794, 대한민국\n",
      "경부고속도로, 양재2동, 양재동, 수정구, 서초구, 서울, 06772, 대한민국\n",
      "127.06865300000027 : [37.466146000000045, 37.42914600000013]\n",
      "내곡동, 서초구, 서울, 06794, 대한민국\n",
      "경부고속도로, 양재2동, 양재동, 수정구, 서초구, 서울, 06772, 대한민국\n",
      "127.06965300000027 : [37.46814600000004, 37.42914600000013]\n"
     ]
    },
    {
     "ename": "KeyboardInterrupt",
     "evalue": "",
     "output_type": "error",
     "traceback": [
      "\u001b[0;31m---------------------------------------------------------------------------\u001b[0m",
      "\u001b[0;31mKeyboardInterrupt\u001b[0m                         Traceback (most recent call last)",
      "\u001b[0;32m<ipython-input-90-d8267ea62b64>\u001b[0m in \u001b[0;36m<module>\u001b[0;34m\u001b[0m\n\u001b[0;32m----> 1\u001b[0;31m \u001b[0mres\u001b[0m \u001b[0;34m=\u001b[0m \u001b[0mmake_gu_list\u001b[0m\u001b[0;34m(\u001b[0m\u001b[0mstart_long\u001b[0m\u001b[0;34m,\u001b[0m\u001b[0mstart_lati\u001b[0m\u001b[0;34m)\u001b[0m\u001b[0;34m\u001b[0m\u001b[0;34m\u001b[0m\u001b[0m\n\u001b[0m",
      "\u001b[0;32m<ipython-input-89-ec5fb8546832>\u001b[0m in \u001b[0;36mmake_gu_list\u001b[0;34m(st_long, st_lati)\u001b[0m\n\u001b[1;32m     81\u001b[0m             \u001b[0mres\u001b[0m\u001b[0;34m[\u001b[0m\u001b[0mpoint_lati\u001b[0m\u001b[0;34m]\u001b[0m\u001b[0;34m=\u001b[0m\u001b[0;34m[\u001b[0m\u001b[0mres_t_long\u001b[0m\u001b[0;34m,\u001b[0m\u001b[0mres_d_long\u001b[0m\u001b[0;34m]\u001b[0m\u001b[0;34m\u001b[0m\u001b[0;34m\u001b[0m\u001b[0m\n\u001b[1;32m     82\u001b[0m             \u001b[0mprint\u001b[0m\u001b[0;34m(\u001b[0m\u001b[0mpoint_lati\u001b[0m\u001b[0;34m,\u001b[0m\u001b[0;34m\":\"\u001b[0m\u001b[0;34m,\u001b[0m\u001b[0mres\u001b[0m\u001b[0;34m[\u001b[0m\u001b[0mpoint_lati\u001b[0m\u001b[0;34m]\u001b[0m\u001b[0;34m)\u001b[0m\u001b[0;34m\u001b[0m\u001b[0;34m\u001b[0m\u001b[0m\n\u001b[0;32m---> 83\u001b[0;31m             \u001b[0mlocation\u001b[0m \u001b[0;34m=\u001b[0m \u001b[0mgeolocator\u001b[0m\u001b[0;34m.\u001b[0m\u001b[0mreverse\u001b[0m\u001b[0;34m(\u001b[0m\u001b[0mstr\u001b[0m\u001b[0;34m(\u001b[0m\u001b[0mres_t_long\u001b[0m\u001b[0;34m)\u001b[0m\u001b[0;34m+\u001b[0m\u001b[0;34m\", \"\u001b[0m\u001b[0;34m+\u001b[0m\u001b[0mstr\u001b[0m\u001b[0;34m(\u001b[0m\u001b[0mpoint_lati\u001b[0m\u001b[0;34m)\u001b[0m\u001b[0;34m)\u001b[0m\u001b[0;34m\u001b[0m\u001b[0;34m\u001b[0m\u001b[0m\n\u001b[0m\u001b[1;32m     84\u001b[0m             \u001b[0mprint\u001b[0m\u001b[0;34m(\u001b[0m\u001b[0mlocation\u001b[0m\u001b[0;34m.\u001b[0m\u001b[0maddress\u001b[0m\u001b[0;34m)\u001b[0m\u001b[0;34m\u001b[0m\u001b[0;34m\u001b[0m\u001b[0m\n\u001b[1;32m     85\u001b[0m             \u001b[0mlocation\u001b[0m \u001b[0;34m=\u001b[0m \u001b[0mgeolocator\u001b[0m\u001b[0;34m.\u001b[0m\u001b[0mreverse\u001b[0m\u001b[0;34m(\u001b[0m\u001b[0mstr\u001b[0m\u001b[0;34m(\u001b[0m\u001b[0mres_d_long\u001b[0m\u001b[0;34m)\u001b[0m\u001b[0;34m+\u001b[0m\u001b[0;34m\", \"\u001b[0m\u001b[0;34m+\u001b[0m\u001b[0mstr\u001b[0m\u001b[0;34m(\u001b[0m\u001b[0mpoint_lati\u001b[0m\u001b[0;34m)\u001b[0m\u001b[0;34m)\u001b[0m\u001b[0;34m\u001b[0m\u001b[0;34m\u001b[0m\u001b[0m\n",
      "\u001b[0;32m~/.pyenv/versions/anaconda3-5.3.0/lib/python3.6/site-packages/geopy/geocoders/osm.py\u001b[0m in \u001b[0;36mreverse\u001b[0;34m(self, query, exactly_one, timeout, language, addressdetails)\u001b[0m\n\u001b[1;32m    447\u001b[0m \u001b[0;34m\u001b[0m\u001b[0m\n\u001b[1;32m    448\u001b[0m         return self._parse_json(\n\u001b[0;32m--> 449\u001b[0;31m             \u001b[0mself\u001b[0m\u001b[0;34m.\u001b[0m\u001b[0m_call_geocoder\u001b[0m\u001b[0;34m(\u001b[0m\u001b[0murl\u001b[0m\u001b[0;34m,\u001b[0m \u001b[0mtimeout\u001b[0m\u001b[0;34m=\u001b[0m\u001b[0mtimeout\u001b[0m\u001b[0;34m)\u001b[0m\u001b[0;34m,\u001b[0m \u001b[0mexactly_one\u001b[0m\u001b[0;34m\u001b[0m\u001b[0;34m\u001b[0m\u001b[0m\n\u001b[0m\u001b[1;32m    450\u001b[0m         )\n\u001b[1;32m    451\u001b[0m \u001b[0;34m\u001b[0m\u001b[0m\n",
      "\u001b[0;32m~/.pyenv/versions/anaconda3-5.3.0/lib/python3.6/site-packages/geopy/geocoders/base.py\u001b[0m in \u001b[0;36m_call_geocoder\u001b[0;34m(self, url, timeout, raw, requester, deserializer, **kwargs)\u001b[0m\n\u001b[1;32m    353\u001b[0m \u001b[0;34m\u001b[0m\u001b[0m\n\u001b[1;32m    354\u001b[0m         \u001b[0;32mtry\u001b[0m\u001b[0;34m:\u001b[0m\u001b[0;34m\u001b[0m\u001b[0;34m\u001b[0m\u001b[0m\n\u001b[0;32m--> 355\u001b[0;31m             \u001b[0mpage\u001b[0m \u001b[0;34m=\u001b[0m \u001b[0mrequester\u001b[0m\u001b[0;34m(\u001b[0m\u001b[0mreq\u001b[0m\u001b[0;34m,\u001b[0m \u001b[0mtimeout\u001b[0m\u001b[0;34m=\u001b[0m\u001b[0mtimeout\u001b[0m\u001b[0;34m,\u001b[0m \u001b[0;34m**\u001b[0m\u001b[0mkwargs\u001b[0m\u001b[0;34m)\u001b[0m\u001b[0;34m\u001b[0m\u001b[0;34m\u001b[0m\u001b[0m\n\u001b[0m\u001b[1;32m    356\u001b[0m         \u001b[0;32mexcept\u001b[0m \u001b[0mException\u001b[0m \u001b[0;32mas\u001b[0m \u001b[0merror\u001b[0m\u001b[0;34m:\u001b[0m\u001b[0;34m\u001b[0m\u001b[0;34m\u001b[0m\u001b[0m\n\u001b[1;32m    357\u001b[0m             message = (\n",
      "\u001b[0;32m~/.pyenv/versions/anaconda3-5.3.0/lib/python3.6/urllib/request.py\u001b[0m in \u001b[0;36mopen\u001b[0;34m(self, fullurl, data, timeout)\u001b[0m\n\u001b[1;32m    524\u001b[0m             \u001b[0mreq\u001b[0m \u001b[0;34m=\u001b[0m \u001b[0mmeth\u001b[0m\u001b[0;34m(\u001b[0m\u001b[0mreq\u001b[0m\u001b[0;34m)\u001b[0m\u001b[0;34m\u001b[0m\u001b[0;34m\u001b[0m\u001b[0m\n\u001b[1;32m    525\u001b[0m \u001b[0;34m\u001b[0m\u001b[0m\n\u001b[0;32m--> 526\u001b[0;31m         \u001b[0mresponse\u001b[0m \u001b[0;34m=\u001b[0m \u001b[0mself\u001b[0m\u001b[0;34m.\u001b[0m\u001b[0m_open\u001b[0m\u001b[0;34m(\u001b[0m\u001b[0mreq\u001b[0m\u001b[0;34m,\u001b[0m \u001b[0mdata\u001b[0m\u001b[0;34m)\u001b[0m\u001b[0;34m\u001b[0m\u001b[0;34m\u001b[0m\u001b[0m\n\u001b[0m\u001b[1;32m    527\u001b[0m \u001b[0;34m\u001b[0m\u001b[0m\n\u001b[1;32m    528\u001b[0m         \u001b[0;31m# post-process response\u001b[0m\u001b[0;34m\u001b[0m\u001b[0;34m\u001b[0m\u001b[0;34m\u001b[0m\u001b[0m\n",
      "\u001b[0;32m~/.pyenv/versions/anaconda3-5.3.0/lib/python3.6/urllib/request.py\u001b[0m in \u001b[0;36m_open\u001b[0;34m(self, req, data)\u001b[0m\n\u001b[1;32m    542\u001b[0m         \u001b[0mprotocol\u001b[0m \u001b[0;34m=\u001b[0m \u001b[0mreq\u001b[0m\u001b[0;34m.\u001b[0m\u001b[0mtype\u001b[0m\u001b[0;34m\u001b[0m\u001b[0;34m\u001b[0m\u001b[0m\n\u001b[1;32m    543\u001b[0m         result = self._call_chain(self.handle_open, protocol, protocol +\n\u001b[0;32m--> 544\u001b[0;31m                                   '_open', req)\n\u001b[0m\u001b[1;32m    545\u001b[0m         \u001b[0;32mif\u001b[0m \u001b[0mresult\u001b[0m\u001b[0;34m:\u001b[0m\u001b[0;34m\u001b[0m\u001b[0;34m\u001b[0m\u001b[0m\n\u001b[1;32m    546\u001b[0m             \u001b[0;32mreturn\u001b[0m \u001b[0mresult\u001b[0m\u001b[0;34m\u001b[0m\u001b[0;34m\u001b[0m\u001b[0m\n",
      "\u001b[0;32m~/.pyenv/versions/anaconda3-5.3.0/lib/python3.6/urllib/request.py\u001b[0m in \u001b[0;36m_call_chain\u001b[0;34m(self, chain, kind, meth_name, *args)\u001b[0m\n\u001b[1;32m    502\u001b[0m         \u001b[0;32mfor\u001b[0m \u001b[0mhandler\u001b[0m \u001b[0;32min\u001b[0m \u001b[0mhandlers\u001b[0m\u001b[0;34m:\u001b[0m\u001b[0;34m\u001b[0m\u001b[0;34m\u001b[0m\u001b[0m\n\u001b[1;32m    503\u001b[0m             \u001b[0mfunc\u001b[0m \u001b[0;34m=\u001b[0m \u001b[0mgetattr\u001b[0m\u001b[0;34m(\u001b[0m\u001b[0mhandler\u001b[0m\u001b[0;34m,\u001b[0m \u001b[0mmeth_name\u001b[0m\u001b[0;34m)\u001b[0m\u001b[0;34m\u001b[0m\u001b[0;34m\u001b[0m\u001b[0m\n\u001b[0;32m--> 504\u001b[0;31m             \u001b[0mresult\u001b[0m \u001b[0;34m=\u001b[0m \u001b[0mfunc\u001b[0m\u001b[0;34m(\u001b[0m\u001b[0;34m*\u001b[0m\u001b[0margs\u001b[0m\u001b[0;34m)\u001b[0m\u001b[0;34m\u001b[0m\u001b[0;34m\u001b[0m\u001b[0m\n\u001b[0m\u001b[1;32m    505\u001b[0m             \u001b[0;32mif\u001b[0m \u001b[0mresult\u001b[0m \u001b[0;32mis\u001b[0m \u001b[0;32mnot\u001b[0m \u001b[0;32mNone\u001b[0m\u001b[0;34m:\u001b[0m\u001b[0;34m\u001b[0m\u001b[0;34m\u001b[0m\u001b[0m\n\u001b[1;32m    506\u001b[0m                 \u001b[0;32mreturn\u001b[0m \u001b[0mresult\u001b[0m\u001b[0;34m\u001b[0m\u001b[0;34m\u001b[0m\u001b[0m\n",
      "\u001b[0;32m~/.pyenv/versions/anaconda3-5.3.0/lib/python3.6/urllib/request.py\u001b[0m in \u001b[0;36mhttps_open\u001b[0;34m(self, req)\u001b[0m\n\u001b[1;32m   1359\u001b[0m         \u001b[0;32mdef\u001b[0m \u001b[0mhttps_open\u001b[0m\u001b[0;34m(\u001b[0m\u001b[0mself\u001b[0m\u001b[0;34m,\u001b[0m \u001b[0mreq\u001b[0m\u001b[0;34m)\u001b[0m\u001b[0;34m:\u001b[0m\u001b[0;34m\u001b[0m\u001b[0;34m\u001b[0m\u001b[0m\n\u001b[1;32m   1360\u001b[0m             return self.do_open(http.client.HTTPSConnection, req,\n\u001b[0;32m-> 1361\u001b[0;31m                 context=self._context, check_hostname=self._check_hostname)\n\u001b[0m\u001b[1;32m   1362\u001b[0m \u001b[0;34m\u001b[0m\u001b[0m\n\u001b[1;32m   1363\u001b[0m         \u001b[0mhttps_request\u001b[0m \u001b[0;34m=\u001b[0m \u001b[0mAbstractHTTPHandler\u001b[0m\u001b[0;34m.\u001b[0m\u001b[0mdo_request_\u001b[0m\u001b[0;34m\u001b[0m\u001b[0;34m\u001b[0m\u001b[0m\n",
      "\u001b[0;32m~/.pyenv/versions/anaconda3-5.3.0/lib/python3.6/urllib/request.py\u001b[0m in \u001b[0;36mdo_open\u001b[0;34m(self, http_class, req, **http_conn_args)\u001b[0m\n\u001b[1;32m   1316\u001b[0m             \u001b[0;32mtry\u001b[0m\u001b[0;34m:\u001b[0m\u001b[0;34m\u001b[0m\u001b[0;34m\u001b[0m\u001b[0m\n\u001b[1;32m   1317\u001b[0m                 h.request(req.get_method(), req.selector, req.data, headers,\n\u001b[0;32m-> 1318\u001b[0;31m                           encode_chunked=req.has_header('Transfer-encoding'))\n\u001b[0m\u001b[1;32m   1319\u001b[0m             \u001b[0;32mexcept\u001b[0m \u001b[0mOSError\u001b[0m \u001b[0;32mas\u001b[0m \u001b[0merr\u001b[0m\u001b[0;34m:\u001b[0m \u001b[0;31m# timeout error\u001b[0m\u001b[0;34m\u001b[0m\u001b[0;34m\u001b[0m\u001b[0m\n\u001b[1;32m   1320\u001b[0m                 \u001b[0;32mraise\u001b[0m \u001b[0mURLError\u001b[0m\u001b[0;34m(\u001b[0m\u001b[0merr\u001b[0m\u001b[0;34m)\u001b[0m\u001b[0;34m\u001b[0m\u001b[0;34m\u001b[0m\u001b[0m\n",
      "\u001b[0;32m~/.pyenv/versions/anaconda3-5.3.0/lib/python3.6/http/client.py\u001b[0m in \u001b[0;36mrequest\u001b[0;34m(self, method, url, body, headers, encode_chunked)\u001b[0m\n\u001b[1;32m   1237\u001b[0m                 encode_chunked=False):\n\u001b[1;32m   1238\u001b[0m         \u001b[0;34m\"\"\"Send a complete request to the server.\"\"\"\u001b[0m\u001b[0;34m\u001b[0m\u001b[0;34m\u001b[0m\u001b[0m\n\u001b[0;32m-> 1239\u001b[0;31m         \u001b[0mself\u001b[0m\u001b[0;34m.\u001b[0m\u001b[0m_send_request\u001b[0m\u001b[0;34m(\u001b[0m\u001b[0mmethod\u001b[0m\u001b[0;34m,\u001b[0m \u001b[0murl\u001b[0m\u001b[0;34m,\u001b[0m \u001b[0mbody\u001b[0m\u001b[0;34m,\u001b[0m \u001b[0mheaders\u001b[0m\u001b[0;34m,\u001b[0m \u001b[0mencode_chunked\u001b[0m\u001b[0;34m)\u001b[0m\u001b[0;34m\u001b[0m\u001b[0;34m\u001b[0m\u001b[0m\n\u001b[0m\u001b[1;32m   1240\u001b[0m \u001b[0;34m\u001b[0m\u001b[0m\n\u001b[1;32m   1241\u001b[0m     \u001b[0;32mdef\u001b[0m \u001b[0m_send_request\u001b[0m\u001b[0;34m(\u001b[0m\u001b[0mself\u001b[0m\u001b[0;34m,\u001b[0m \u001b[0mmethod\u001b[0m\u001b[0;34m,\u001b[0m \u001b[0murl\u001b[0m\u001b[0;34m,\u001b[0m \u001b[0mbody\u001b[0m\u001b[0;34m,\u001b[0m \u001b[0mheaders\u001b[0m\u001b[0;34m,\u001b[0m \u001b[0mencode_chunked\u001b[0m\u001b[0;34m)\u001b[0m\u001b[0;34m:\u001b[0m\u001b[0;34m\u001b[0m\u001b[0;34m\u001b[0m\u001b[0m\n",
      "\u001b[0;32m~/.pyenv/versions/anaconda3-5.3.0/lib/python3.6/http/client.py\u001b[0m in \u001b[0;36m_send_request\u001b[0;34m(self, method, url, body, headers, encode_chunked)\u001b[0m\n\u001b[1;32m   1283\u001b[0m             \u001b[0;31m# default charset of iso-8859-1.\u001b[0m\u001b[0;34m\u001b[0m\u001b[0;34m\u001b[0m\u001b[0;34m\u001b[0m\u001b[0m\n\u001b[1;32m   1284\u001b[0m             \u001b[0mbody\u001b[0m \u001b[0;34m=\u001b[0m \u001b[0m_encode\u001b[0m\u001b[0;34m(\u001b[0m\u001b[0mbody\u001b[0m\u001b[0;34m,\u001b[0m \u001b[0;34m'body'\u001b[0m\u001b[0;34m)\u001b[0m\u001b[0;34m\u001b[0m\u001b[0;34m\u001b[0m\u001b[0m\n\u001b[0;32m-> 1285\u001b[0;31m         \u001b[0mself\u001b[0m\u001b[0;34m.\u001b[0m\u001b[0mendheaders\u001b[0m\u001b[0;34m(\u001b[0m\u001b[0mbody\u001b[0m\u001b[0;34m,\u001b[0m \u001b[0mencode_chunked\u001b[0m\u001b[0;34m=\u001b[0m\u001b[0mencode_chunked\u001b[0m\u001b[0;34m)\u001b[0m\u001b[0;34m\u001b[0m\u001b[0;34m\u001b[0m\u001b[0m\n\u001b[0m\u001b[1;32m   1286\u001b[0m \u001b[0;34m\u001b[0m\u001b[0m\n\u001b[1;32m   1287\u001b[0m     \u001b[0;32mdef\u001b[0m \u001b[0mgetresponse\u001b[0m\u001b[0;34m(\u001b[0m\u001b[0mself\u001b[0m\u001b[0;34m)\u001b[0m\u001b[0;34m:\u001b[0m\u001b[0;34m\u001b[0m\u001b[0;34m\u001b[0m\u001b[0m\n",
      "\u001b[0;32m~/.pyenv/versions/anaconda3-5.3.0/lib/python3.6/http/client.py\u001b[0m in \u001b[0;36mendheaders\u001b[0;34m(self, message_body, encode_chunked)\u001b[0m\n\u001b[1;32m   1232\u001b[0m         \u001b[0;32melse\u001b[0m\u001b[0;34m:\u001b[0m\u001b[0;34m\u001b[0m\u001b[0;34m\u001b[0m\u001b[0m\n\u001b[1;32m   1233\u001b[0m             \u001b[0;32mraise\u001b[0m \u001b[0mCannotSendHeader\u001b[0m\u001b[0;34m(\u001b[0m\u001b[0;34m)\u001b[0m\u001b[0;34m\u001b[0m\u001b[0;34m\u001b[0m\u001b[0m\n\u001b[0;32m-> 1234\u001b[0;31m         \u001b[0mself\u001b[0m\u001b[0;34m.\u001b[0m\u001b[0m_send_output\u001b[0m\u001b[0;34m(\u001b[0m\u001b[0mmessage_body\u001b[0m\u001b[0;34m,\u001b[0m \u001b[0mencode_chunked\u001b[0m\u001b[0;34m=\u001b[0m\u001b[0mencode_chunked\u001b[0m\u001b[0;34m)\u001b[0m\u001b[0;34m\u001b[0m\u001b[0;34m\u001b[0m\u001b[0m\n\u001b[0m\u001b[1;32m   1235\u001b[0m \u001b[0;34m\u001b[0m\u001b[0m\n\u001b[1;32m   1236\u001b[0m     def request(self, method, url, body=None, headers={}, *,\n",
      "\u001b[0;32m~/.pyenv/versions/anaconda3-5.3.0/lib/python3.6/http/client.py\u001b[0m in \u001b[0;36m_send_output\u001b[0;34m(self, message_body, encode_chunked)\u001b[0m\n\u001b[1;32m   1024\u001b[0m         \u001b[0mmsg\u001b[0m \u001b[0;34m=\u001b[0m \u001b[0;34mb\"\\r\\n\"\u001b[0m\u001b[0;34m.\u001b[0m\u001b[0mjoin\u001b[0m\u001b[0;34m(\u001b[0m\u001b[0mself\u001b[0m\u001b[0;34m.\u001b[0m\u001b[0m_buffer\u001b[0m\u001b[0;34m)\u001b[0m\u001b[0;34m\u001b[0m\u001b[0;34m\u001b[0m\u001b[0m\n\u001b[1;32m   1025\u001b[0m         \u001b[0;32mdel\u001b[0m \u001b[0mself\u001b[0m\u001b[0;34m.\u001b[0m\u001b[0m_buffer\u001b[0m\u001b[0;34m[\u001b[0m\u001b[0;34m:\u001b[0m\u001b[0;34m]\u001b[0m\u001b[0;34m\u001b[0m\u001b[0;34m\u001b[0m\u001b[0m\n\u001b[0;32m-> 1026\u001b[0;31m         \u001b[0mself\u001b[0m\u001b[0;34m.\u001b[0m\u001b[0msend\u001b[0m\u001b[0;34m(\u001b[0m\u001b[0mmsg\u001b[0m\u001b[0;34m)\u001b[0m\u001b[0;34m\u001b[0m\u001b[0;34m\u001b[0m\u001b[0m\n\u001b[0m\u001b[1;32m   1027\u001b[0m \u001b[0;34m\u001b[0m\u001b[0m\n\u001b[1;32m   1028\u001b[0m         \u001b[0;32mif\u001b[0m \u001b[0mmessage_body\u001b[0m \u001b[0;32mis\u001b[0m \u001b[0;32mnot\u001b[0m \u001b[0;32mNone\u001b[0m\u001b[0;34m:\u001b[0m\u001b[0;34m\u001b[0m\u001b[0;34m\u001b[0m\u001b[0m\n",
      "\u001b[0;32m~/.pyenv/versions/anaconda3-5.3.0/lib/python3.6/http/client.py\u001b[0m in \u001b[0;36msend\u001b[0;34m(self, data)\u001b[0m\n\u001b[1;32m    962\u001b[0m         \u001b[0;32mif\u001b[0m \u001b[0mself\u001b[0m\u001b[0;34m.\u001b[0m\u001b[0msock\u001b[0m \u001b[0;32mis\u001b[0m \u001b[0;32mNone\u001b[0m\u001b[0;34m:\u001b[0m\u001b[0;34m\u001b[0m\u001b[0;34m\u001b[0m\u001b[0m\n\u001b[1;32m    963\u001b[0m             \u001b[0;32mif\u001b[0m \u001b[0mself\u001b[0m\u001b[0;34m.\u001b[0m\u001b[0mauto_open\u001b[0m\u001b[0;34m:\u001b[0m\u001b[0;34m\u001b[0m\u001b[0;34m\u001b[0m\u001b[0m\n\u001b[0;32m--> 964\u001b[0;31m                 \u001b[0mself\u001b[0m\u001b[0;34m.\u001b[0m\u001b[0mconnect\u001b[0m\u001b[0;34m(\u001b[0m\u001b[0;34m)\u001b[0m\u001b[0;34m\u001b[0m\u001b[0;34m\u001b[0m\u001b[0m\n\u001b[0m\u001b[1;32m    965\u001b[0m             \u001b[0;32melse\u001b[0m\u001b[0;34m:\u001b[0m\u001b[0;34m\u001b[0m\u001b[0;34m\u001b[0m\u001b[0m\n\u001b[1;32m    966\u001b[0m                 \u001b[0;32mraise\u001b[0m \u001b[0mNotConnected\u001b[0m\u001b[0;34m(\u001b[0m\u001b[0;34m)\u001b[0m\u001b[0;34m\u001b[0m\u001b[0;34m\u001b[0m\u001b[0m\n",
      "\u001b[0;32m~/.pyenv/versions/anaconda3-5.3.0/lib/python3.6/http/client.py\u001b[0m in \u001b[0;36mconnect\u001b[0;34m(self)\u001b[0m\n\u001b[1;32m   1398\u001b[0m \u001b[0;34m\u001b[0m\u001b[0m\n\u001b[1;32m   1399\u001b[0m             self.sock = self._context.wrap_socket(self.sock,\n\u001b[0;32m-> 1400\u001b[0;31m                                                   server_hostname=server_hostname)\n\u001b[0m\u001b[1;32m   1401\u001b[0m             \u001b[0;32mif\u001b[0m \u001b[0;32mnot\u001b[0m \u001b[0mself\u001b[0m\u001b[0;34m.\u001b[0m\u001b[0m_context\u001b[0m\u001b[0;34m.\u001b[0m\u001b[0mcheck_hostname\u001b[0m \u001b[0;32mand\u001b[0m \u001b[0mself\u001b[0m\u001b[0;34m.\u001b[0m\u001b[0m_check_hostname\u001b[0m\u001b[0;34m:\u001b[0m\u001b[0;34m\u001b[0m\u001b[0;34m\u001b[0m\u001b[0m\n\u001b[1;32m   1402\u001b[0m                 \u001b[0;32mtry\u001b[0m\u001b[0;34m:\u001b[0m\u001b[0;34m\u001b[0m\u001b[0;34m\u001b[0m\u001b[0m\n",
      "\u001b[0;32m~/.pyenv/versions/anaconda3-5.3.0/lib/python3.6/ssl.py\u001b[0m in \u001b[0;36mwrap_socket\u001b[0;34m(self, sock, server_side, do_handshake_on_connect, suppress_ragged_eofs, server_hostname, session)\u001b[0m\n\u001b[1;32m    405\u001b[0m                          \u001b[0msuppress_ragged_eofs\u001b[0m\u001b[0;34m=\u001b[0m\u001b[0msuppress_ragged_eofs\u001b[0m\u001b[0;34m,\u001b[0m\u001b[0;34m\u001b[0m\u001b[0;34m\u001b[0m\u001b[0m\n\u001b[1;32m    406\u001b[0m                          \u001b[0mserver_hostname\u001b[0m\u001b[0;34m=\u001b[0m\u001b[0mserver_hostname\u001b[0m\u001b[0;34m,\u001b[0m\u001b[0;34m\u001b[0m\u001b[0;34m\u001b[0m\u001b[0m\n\u001b[0;32m--> 407\u001b[0;31m                          _context=self, _session=session)\n\u001b[0m\u001b[1;32m    408\u001b[0m \u001b[0;34m\u001b[0m\u001b[0m\n\u001b[1;32m    409\u001b[0m     def wrap_bio(self, incoming, outgoing, server_side=False,\n",
      "\u001b[0;32m~/.pyenv/versions/anaconda3-5.3.0/lib/python3.6/ssl.py\u001b[0m in \u001b[0;36m__init__\u001b[0;34m(self, sock, keyfile, certfile, server_side, cert_reqs, ssl_version, ca_certs, do_handshake_on_connect, family, type, proto, fileno, suppress_ragged_eofs, npn_protocols, ciphers, server_hostname, _context, _session)\u001b[0m\n\u001b[1;32m    815\u001b[0m                         \u001b[0;31m# non-blocking\u001b[0m\u001b[0;34m\u001b[0m\u001b[0;34m\u001b[0m\u001b[0;34m\u001b[0m\u001b[0m\n\u001b[1;32m    816\u001b[0m                         \u001b[0;32mraise\u001b[0m \u001b[0mValueError\u001b[0m\u001b[0;34m(\u001b[0m\u001b[0;34m\"do_handshake_on_connect should not be specified for non-blocking sockets\"\u001b[0m\u001b[0;34m)\u001b[0m\u001b[0;34m\u001b[0m\u001b[0;34m\u001b[0m\u001b[0m\n\u001b[0;32m--> 817\u001b[0;31m                     \u001b[0mself\u001b[0m\u001b[0;34m.\u001b[0m\u001b[0mdo_handshake\u001b[0m\u001b[0;34m(\u001b[0m\u001b[0;34m)\u001b[0m\u001b[0;34m\u001b[0m\u001b[0;34m\u001b[0m\u001b[0m\n\u001b[0m\u001b[1;32m    818\u001b[0m \u001b[0;34m\u001b[0m\u001b[0m\n\u001b[1;32m    819\u001b[0m             \u001b[0;32mexcept\u001b[0m \u001b[0;34m(\u001b[0m\u001b[0mOSError\u001b[0m\u001b[0;34m,\u001b[0m \u001b[0mValueError\u001b[0m\u001b[0;34m)\u001b[0m\u001b[0;34m:\u001b[0m\u001b[0;34m\u001b[0m\u001b[0;34m\u001b[0m\u001b[0m\n",
      "\u001b[0;32m~/.pyenv/versions/anaconda3-5.3.0/lib/python3.6/ssl.py\u001b[0m in \u001b[0;36mdo_handshake\u001b[0;34m(self, block)\u001b[0m\n\u001b[1;32m   1075\u001b[0m             \u001b[0;32mif\u001b[0m \u001b[0mtimeout\u001b[0m \u001b[0;34m==\u001b[0m \u001b[0;36m0.0\u001b[0m \u001b[0;32mand\u001b[0m \u001b[0mblock\u001b[0m\u001b[0;34m:\u001b[0m\u001b[0;34m\u001b[0m\u001b[0;34m\u001b[0m\u001b[0m\n\u001b[1;32m   1076\u001b[0m                 \u001b[0mself\u001b[0m\u001b[0;34m.\u001b[0m\u001b[0msettimeout\u001b[0m\u001b[0;34m(\u001b[0m\u001b[0;32mNone\u001b[0m\u001b[0;34m)\u001b[0m\u001b[0;34m\u001b[0m\u001b[0;34m\u001b[0m\u001b[0m\n\u001b[0;32m-> 1077\u001b[0;31m             \u001b[0mself\u001b[0m\u001b[0;34m.\u001b[0m\u001b[0m_sslobj\u001b[0m\u001b[0;34m.\u001b[0m\u001b[0mdo_handshake\u001b[0m\u001b[0;34m(\u001b[0m\u001b[0;34m)\u001b[0m\u001b[0;34m\u001b[0m\u001b[0;34m\u001b[0m\u001b[0m\n\u001b[0m\u001b[1;32m   1078\u001b[0m         \u001b[0;32mfinally\u001b[0m\u001b[0;34m:\u001b[0m\u001b[0;34m\u001b[0m\u001b[0;34m\u001b[0m\u001b[0m\n\u001b[1;32m   1079\u001b[0m             \u001b[0mself\u001b[0m\u001b[0;34m.\u001b[0m\u001b[0msettimeout\u001b[0m\u001b[0;34m(\u001b[0m\u001b[0mtimeout\u001b[0m\u001b[0;34m)\u001b[0m\u001b[0;34m\u001b[0m\u001b[0;34m\u001b[0m\u001b[0m\n",
      "\u001b[0;32m~/.pyenv/versions/anaconda3-5.3.0/lib/python3.6/ssl.py\u001b[0m in \u001b[0;36mdo_handshake\u001b[0;34m(self)\u001b[0m\n\u001b[1;32m    687\u001b[0m     \u001b[0;32mdef\u001b[0m \u001b[0mdo_handshake\u001b[0m\u001b[0;34m(\u001b[0m\u001b[0mself\u001b[0m\u001b[0;34m)\u001b[0m\u001b[0;34m:\u001b[0m\u001b[0;34m\u001b[0m\u001b[0;34m\u001b[0m\u001b[0m\n\u001b[1;32m    688\u001b[0m         \u001b[0;34m\"\"\"Start the SSL/TLS handshake.\"\"\"\u001b[0m\u001b[0;34m\u001b[0m\u001b[0;34m\u001b[0m\u001b[0m\n\u001b[0;32m--> 689\u001b[0;31m         \u001b[0mself\u001b[0m\u001b[0;34m.\u001b[0m\u001b[0m_sslobj\u001b[0m\u001b[0;34m.\u001b[0m\u001b[0mdo_handshake\u001b[0m\u001b[0;34m(\u001b[0m\u001b[0;34m)\u001b[0m\u001b[0;34m\u001b[0m\u001b[0;34m\u001b[0m\u001b[0m\n\u001b[0m\u001b[1;32m    690\u001b[0m         \u001b[0;32mif\u001b[0m \u001b[0mself\u001b[0m\u001b[0;34m.\u001b[0m\u001b[0mcontext\u001b[0m\u001b[0;34m.\u001b[0m\u001b[0mcheck_hostname\u001b[0m\u001b[0;34m:\u001b[0m\u001b[0;34m\u001b[0m\u001b[0;34m\u001b[0m\u001b[0m\n\u001b[1;32m    691\u001b[0m             \u001b[0;32mif\u001b[0m \u001b[0;32mnot\u001b[0m \u001b[0mself\u001b[0m\u001b[0;34m.\u001b[0m\u001b[0mserver_hostname\u001b[0m\u001b[0;34m:\u001b[0m\u001b[0;34m\u001b[0m\u001b[0;34m\u001b[0m\u001b[0m\n",
      "\u001b[0;31mKeyboardInterrupt\u001b[0m: "
     ]
    }
   ],
   "source": [
    "res = make_gu_list(start_long,start_lati)"
   ]
  },
  {
   "cell_type": "code",
   "execution_count": null,
   "metadata": {},
   "outputs": [],
   "source": []
  }
 ],
 "metadata": {
  "kernelspec": {
   "display_name": "Python 3",
   "language": "python",
   "name": "python3"
  },
  "language_info": {
   "codemirror_mode": {
    "name": "ipython",
    "version": 3
   },
   "file_extension": ".py",
   "mimetype": "text/x-python",
   "name": "python",
   "nbconvert_exporter": "python",
   "pygments_lexer": "ipython3",
   "version": "3.6.8"
  }
 },
 "nbformat": 4,
 "nbformat_minor": 2
}
